{
 "cells": [
  {
   "cell_type": "code",
   "execution_count": 1,
   "metadata": {
    "vscode": {
     "languageId": "r"
    }
   },
   "outputs": [],
   "source": [
    "rm(list = ls())"
   ]
  },
  {
   "cell_type": "code",
   "execution_count": 1,
   "metadata": {
    "vscode": {
     "languageId": "r"
    }
   },
   "outputs": [
    {
     "data": {
      "text/plain": [
       "               _                                \n",
       "platform       x86_64-w64-mingw32               \n",
       "arch           x86_64                           \n",
       "os             mingw32                          \n",
       "crt            ucrt                             \n",
       "system         x86_64, mingw32                  \n",
       "status                                          \n",
       "major          4                                \n",
       "minor          2.2                              \n",
       "year           2022                             \n",
       "month          10                               \n",
       "day            31                               \n",
       "svn rev        83211                            \n",
       "language       R                                \n",
       "version.string R version 4.2.2 (2022-10-31 ucrt)\n",
       "nickname       Innocent and Trusting            "
      ]
     },
     "metadata": {},
     "output_type": "display_data"
    }
   ],
   "source": [
    "R.version"
   ]
  },
  {
   "cell_type": "code",
   "execution_count": 2,
   "metadata": {
    "vscode": {
     "languageId": "r"
    }
   },
   "outputs": [
    {
     "name": "stderr",
     "output_type": "stream",
     "text": [
      "\n",
      "---------------------\n",
      "Welcome to dendextend version 1.16.0\n",
      "Type citation('dendextend') for how to cite the package.\n",
      "\n",
      "Type browseVignettes(package = 'dendextend') for the package vignette.\n",
      "The github page is: https://github.com/talgalili/dendextend/\n",
      "\n",
      "Suggestions and bug-reports can be submitted at: https://github.com/talgalili/dendextend/issues\n",
      "You may ask questions at stackoverflow, use the r and dendextend tags: \n",
      "\t https://stackoverflow.com/questions/tagged/dendextend\n",
      "\n",
      "\tTo suppress this message use:  suppressPackageStartupMessages(library(dendextend))\n",
      "---------------------\n",
      "\n",
      "\n",
      "\n",
      "Attaching package: 'dendextend'\n",
      "\n",
      "\n",
      "The following object is masked from 'package:stats':\n",
      "\n",
      "    cutree\n",
      "\n",
      "\n",
      "\n",
      "Attaching package: 'dplyr'\n",
      "\n",
      "\n",
      "The following objects are masked from 'package:stats':\n",
      "\n",
      "    filter, lag\n",
      "\n",
      "\n",
      "The following objects are masked from 'package:base':\n",
      "\n",
      "    intersect, setdiff, setequal, union\n",
      "\n",
      "\n",
      "\n",
      "\n",
      "clusterProfiler v4.6.0  For help: https://yulab-smu.top/biomedical-knowledge-mining-book/\n",
      "\n",
      "If you use clusterProfiler in published research, please cite:\n",
      "T Wu, E Hu, S Xu, M Chen, P Guo, Z Dai, T Feng, L Zhou, W Tang, L Zhan, X Fu, S Liu, X Bo, and G Yu. clusterProfiler 4.0: A universal enrichment tool for interpreting omics data. The Innovation. 2021, 2(3):100141\n",
      "\n",
      "\n",
      "Attaching package: 'clusterProfiler'\n",
      "\n",
      "\n",
      "The following object is masked from 'package:stats':\n",
      "\n",
      "    filter\n",
      "\n",
      "\n",
      "Loading required package: AnnotationDbi\n",
      "\n",
      "Loading required package: stats4\n",
      "\n",
      "Loading required package: BiocGenerics\n",
      "\n",
      "\n",
      "Attaching package: 'BiocGenerics'\n",
      "\n",
      "\n",
      "The following objects are masked from 'package:dplyr':\n",
      "\n",
      "    combine, intersect, setdiff, union\n",
      "\n",
      "\n",
      "The following objects are masked from 'package:stats':\n",
      "\n",
      "    IQR, mad, sd, var, xtabs\n",
      "\n",
      "\n",
      "The following objects are masked from 'package:base':\n",
      "\n",
      "    anyDuplicated, aperm, append, as.data.frame, basename, cbind,\n",
      "    colnames, dirname, do.call, duplicated, eval, evalq, Filter, Find,\n",
      "    get, grep, grepl, intersect, is.unsorted, lapply, Map, mapply,\n",
      "    match, mget, order, paste, pmax, pmax.int, pmin, pmin.int,\n",
      "    Position, rank, rbind, Reduce, rownames, sapply, setdiff, sort,\n",
      "    table, tapply, union, unique, unsplit, which.max, which.min\n",
      "\n",
      "\n",
      "Loading required package: Biobase\n",
      "\n",
      "Welcome to Bioconductor\n",
      "\n",
      "    Vignettes contain introductory material; view with\n",
      "    'browseVignettes()'. To cite Bioconductor, see\n",
      "    'citation(\"Biobase\")', and for packages 'citation(\"pkgname\")'.\n",
      "\n",
      "\n",
      "Loading required package: IRanges\n",
      "\n",
      "Loading required package: S4Vectors\n",
      "\n",
      "\n",
      "Attaching package: 'S4Vectors'\n",
      "\n",
      "\n",
      "The following object is masked from 'package:clusterProfiler':\n",
      "\n",
      "    rename\n",
      "\n",
      "\n",
      "The following objects are masked from 'package:dplyr':\n",
      "\n",
      "    first, rename\n",
      "\n",
      "\n",
      "The following objects are masked from 'package:base':\n",
      "\n",
      "    expand.grid, I, unname\n",
      "\n",
      "\n",
      "\n",
      "Attaching package: 'IRanges'\n",
      "\n",
      "\n",
      "The following object is masked from 'package:clusterProfiler':\n",
      "\n",
      "    slice\n",
      "\n",
      "\n",
      "The following objects are masked from 'package:dplyr':\n",
      "\n",
      "    collapse, desc, slice\n",
      "\n",
      "\n",
      "The following object is masked from 'package:grDevices':\n",
      "\n",
      "    windows\n",
      "\n",
      "\n",
      "\n",
      "Attaching package: 'AnnotationDbi'\n",
      "\n",
      "\n",
      "The following object is masked from 'package:clusterProfiler':\n",
      "\n",
      "    select\n",
      "\n",
      "\n",
      "The following object is masked from 'package:dplyr':\n",
      "\n",
      "    select\n",
      "\n",
      "\n",
      "\n",
      "\n",
      "\n",
      "Attaching package: 'cowplot'\n",
      "\n",
      "\n",
      "The following object is masked from 'package:patchwork':\n",
      "\n",
      "    align_plots\n",
      "\n",
      "\n"
     ]
    }
   ],
   "source": [
    "# import library\n",
    "library(\"patchwork\")\n",
    "library(\"reshape2\")\n",
    "library(\"ggplot2\")\n",
    "library(\"dendextend\")\n",
    "library(\"ggrepel\")\n",
    "library(\"ggplot2\")\n",
    "library(\"dplyr\")\n",
    "library(\"clusterProfiler\")\n",
    "library(\"org.Mm.eg.db\")\n",
    "library(\"cowplot\")\n",
    "library(\"enrichplot\")"
   ]
  },
  {
   "cell_type": "code",
   "execution_count": 3,
   "metadata": {
    "vscode": {
     "languageId": "r"
    }
   },
   "outputs": [],
   "source": [
    "# load data\n",
    "df_TPM <- read.table(\"./02_result/Expression_TPM.tsv\", header = T, sep = \"\\t\", row.names = 1)\n",
    "df_phe <- read.table(\"./00_metadata/group.csv\", header = T, sep = \",\")\n",
    "\n",
    "# df_phe$Sample 转化为 factor\n",
    "df_phe$Sample <- factor(df_phe$Sample, levels = df_phe$Sample)\n",
    "df_phe$SRR_ID <- as.factor(df_phe$SRR_ID)\n",
    "df_phe$Group <- as.factor(df_phe$Group)"
   ]
  },
  {
   "attachments": {},
   "cell_type": "markdown",
   "metadata": {},
   "source": [
    "## PCA"
   ]
  },
  {
   "cell_type": "code",
   "execution_count": 4,
   "metadata": {
    "vscode": {
     "languageId": "r"
    }
   },
   "outputs": [
    {
     "data": {
      "text/html": [
       "<table class=\"dataframe\">\n",
       "<caption>A data.frame: 6 × 6</caption>\n",
       "<thead>\n",
       "\t<tr><th></th><th scope=col>SRR_ID</th><th scope=col>Sample</th><th scope=col>Group</th><th scope=col>PC1</th><th scope=col>PC2</th><th scope=col>PC3</th></tr>\n",
       "\t<tr><th></th><th scope=col>&lt;fct&gt;</th><th scope=col>&lt;fct&gt;</th><th scope=col>&lt;fct&gt;</th><th scope=col>&lt;dbl&gt;</th><th scope=col>&lt;dbl&gt;</th><th scope=col>&lt;dbl&gt;</th></tr>\n",
       "</thead>\n",
       "<tbody>\n",
       "\t<tr><th scope=row>Ctrl_18M_A</th><td>SRR10123774</td><td> Ctrl_18M_A</td><td> Ctrl</td><td>-93.53651</td><td>124.803377</td><td>-24.40471</td></tr>\n",
       "\t<tr><th scope=row>Ctrl_18M_B</th><td>SRR10123775</td><td> Ctrl_18M_B</td><td> Ctrl</td><td>-71.95063</td><td>-84.049850</td><td> 13.09857</td></tr>\n",
       "\t<tr><th scope=row>Ctrl_18M_C</th><td>SRR10123776</td><td> Ctrl_18M_C</td><td> Ctrl</td><td>-85.54720</td><td>-40.332836</td><td> 50.07251</td></tr>\n",
       "\t<tr><th scope=row>MCAO_18M_A</th><td>SRR10123786</td><td> MCAO_18M_A</td><td> MCAO</td><td> 67.60367</td><td>-39.477299</td><td>-88.52191</td></tr>\n",
       "\t<tr><th scope=row>MCAO_18M_B</th><td>SRR10123787</td><td> MCAO_18M_B</td><td> MCAO</td><td> 51.45789</td><td>  3.846823</td><td>-29.32763</td></tr>\n",
       "\t<tr><th scope=row>MCAO_18M_C</th><td>SRR10123788</td><td> MCAO_18M_C</td><td> MCAO</td><td>131.97278</td><td> 35.209785</td><td> 79.08317</td></tr>\n",
       "</tbody>\n",
       "</table>\n"
      ],
      "text/latex": [
       "A data.frame: 6 × 6\n",
       "\\begin{tabular}{r|llllll}\n",
       "  & SRR\\_ID & Sample & Group & PC1 & PC2 & PC3\\\\\n",
       "  & <fct> & <fct> & <fct> & <dbl> & <dbl> & <dbl>\\\\\n",
       "\\hline\n",
       "\tCtrl\\_18M\\_A & SRR10123774 &  Ctrl\\_18M\\_A &  Ctrl & -93.53651 & 124.803377 & -24.40471\\\\\n",
       "\tCtrl\\_18M\\_B & SRR10123775 &  Ctrl\\_18M\\_B &  Ctrl & -71.95063 & -84.049850 &  13.09857\\\\\n",
       "\tCtrl\\_18M\\_C & SRR10123776 &  Ctrl\\_18M\\_C &  Ctrl & -85.54720 & -40.332836 &  50.07251\\\\\n",
       "\tMCAO\\_18M\\_A & SRR10123786 &  MCAO\\_18M\\_A &  MCAO &  67.60367 & -39.477299 & -88.52191\\\\\n",
       "\tMCAO\\_18M\\_B & SRR10123787 &  MCAO\\_18M\\_B &  MCAO &  51.45789 &   3.846823 & -29.32763\\\\\n",
       "\tMCAO\\_18M\\_C & SRR10123788 &  MCAO\\_18M\\_C &  MCAO & 131.97278 &  35.209785 &  79.08317\\\\\n",
       "\\end{tabular}\n"
      ],
      "text/markdown": [
       "\n",
       "A data.frame: 6 × 6\n",
       "\n",
       "| <!--/--> | SRR_ID &lt;fct&gt; | Sample &lt;fct&gt; | Group &lt;fct&gt; | PC1 &lt;dbl&gt; | PC2 &lt;dbl&gt; | PC3 &lt;dbl&gt; |\n",
       "|---|---|---|---|---|---|---|\n",
       "| Ctrl_18M_A | SRR10123774 |  Ctrl_18M_A |  Ctrl | -93.53651 | 124.803377 | -24.40471 |\n",
       "| Ctrl_18M_B | SRR10123775 |  Ctrl_18M_B |  Ctrl | -71.95063 | -84.049850 |  13.09857 |\n",
       "| Ctrl_18M_C | SRR10123776 |  Ctrl_18M_C |  Ctrl | -85.54720 | -40.332836 |  50.07251 |\n",
       "| MCAO_18M_A | SRR10123786 |  MCAO_18M_A |  MCAO |  67.60367 | -39.477299 | -88.52191 |\n",
       "| MCAO_18M_B | SRR10123787 |  MCAO_18M_B |  MCAO |  51.45789 |   3.846823 | -29.32763 |\n",
       "| MCAO_18M_C | SRR10123788 |  MCAO_18M_C |  MCAO | 131.97278 |  35.209785 |  79.08317 |\n",
       "\n"
      ],
      "text/plain": [
       "           SRR_ID      Sample      Group PC1       PC2        PC3      \n",
       "Ctrl_18M_A SRR10123774  Ctrl_18M_A  Ctrl -93.53651 124.803377 -24.40471\n",
       "Ctrl_18M_B SRR10123775  Ctrl_18M_B  Ctrl -71.95063 -84.049850  13.09857\n",
       "Ctrl_18M_C SRR10123776  Ctrl_18M_C  Ctrl -85.54720 -40.332836  50.07251\n",
       "MCAO_18M_A SRR10123786  MCAO_18M_A  MCAO  67.60367 -39.477299 -88.52191\n",
       "MCAO_18M_B SRR10123787  MCAO_18M_B  MCAO  51.45789   3.846823 -29.32763\n",
       "MCAO_18M_C SRR10123788  MCAO_18M_C  MCAO 131.97278  35.209785  79.08317"
      ]
     },
     "metadata": {},
     "output_type": "display_data"
    }
   ],
   "source": [
    "pca.input <- t(df_TPM) # transpose for PCA\n",
    "pca.input <- pca.input[, which(apply(pca.input, 2, var) != 0)] #filter out genes with zero variance\n",
    "pca <- prcomp( # PCA\n",
    "    pca.input, \n",
    "    center = TRUE,\n",
    "    scale = TRUE\n",
    ")\n",
    "pca.data <- data.frame(pca$x) # PCA data\n",
    "pca.variance <- pca$sdev^2 / sum(pca$sdev^2) # PCA variance\n",
    "\n",
    "pcaPlotDat <- cbind(df_phe, pca$x[, 1:3]) # PCA plot data\n",
    "\n",
    "pcaPlotDat"
   ]
  },
  {
   "cell_type": "code",
   "execution_count": 5,
   "metadata": {
    "vscode": {
     "languageId": "r"
    }
   },
   "outputs": [
    {
     "data": {
      "image/png": "[encoded data removed]",
      "text/plain": [
       "plot without title"
      ]
     },
     "metadata": {
      "image/png": {
       "height": 420,
       "width": 420
      }
     },
     "output_type": "display_data"
    }
   ],
   "source": [
    "# plot PCA result\n",
    "p_PCA <- ggplot(pcaPlotDat) +\n",
    "    theme_classic() +\n",
    "    geom_point(aes(x = PC1, y = PC2, shape = Group, color = Group), size = 3) +\n",
    "    xlab(paste(\"PC1 (\", round(pca.variance[1] * 100, 1), \"%)\", sep = \"\")) +\n",
    "    ylab(paste(\"PC2 (\", round(pca.variance[2] * 100, 1), \"%)\", sep = \"\")) +\n",
    "    # theme(legend.title = element_blank()) +\n",
    "    scale_color_manual(values = c(\"#44af8f\", \"#d95f02\"))\n",
    "    # stat_ellipse(aes(x = PC1, y = PC2, color = Group),level = 0.95, show.legend = F) +\n",
    "\n",
    "p_PCA\n",
    "ggsave(p_PCA, filename = \"./03_analysis/PCA.pdf\", width = 4, height = 3)"
   ]
  },
  {
   "cell_type": "code",
   "execution_count": 7,
   "metadata": {
    "vscode": {
     "languageId": "r"
    }
   },
   "outputs": [
    {
     "data": {
      "text/html": [
       "<strong>png:</strong> 2"
      ],
      "text/latex": [
       "\\textbf{png:} 2"
      ],
      "text/markdown": [
       "**png:** 2"
      ],
      "text/plain": [
       "png \n",
       "  2 "
      ]
     },
     "metadata": {},
     "output_type": "display_data"
    }
   ],
   "source": [
    "\n",
    "# plot Cluster Dendrogram\n",
    "tree_corD <- hclust(as.dist(1 - cor(t(pca$x[, 1:6]))))\n",
    "dend <- as.dendrogram(tree_corD)\n",
    "pdf(\"./03_analysis/hclust.pdf\", 7.5, 6)\n",
    "par(mar = c(6, 6, 6, 6))\n",
    "dend %>%\n",
    "    set(\"labels_col\", value = c(\"#44af8f\", \"#d95f02\"), k = 2) %>%\n",
    "    plot(main = \"\")\n",
    "\n",
    "dev.off()\n"
   ]
  },
  {
   "attachments": {},
   "cell_type": "markdown",
   "metadata": {},
   "source": [
    "## Differential expression"
   ]
  },
  {
   "cell_type": "code",
   "execution_count": 8,
   "metadata": {
    "vscode": {
     "languageId": "r"
    }
   },
   "outputs": [
    {
     "data": {
      "text/plain": [
       "\n",
       "   Up Nosig  Down \n",
       " 1290 42004   261 "
      ]
     },
     "metadata": {},
     "output_type": "display_data"
    }
   ],
   "source": [
    "gene_exp <- read.table(\"./02_result/gene_exp.diff\", header = T)\n",
    "gene_exp <- gene_exp[, c(2, 3, 10, 12, 13)]\n",
    "gene_exp <- gene_exp[is.finite(gene_exp$log2.fold_change.), ]\n",
    "\n",
    "# add sig column: Up, Down, Nosig\n",
    "gene_exp$Sig <- \"Nosig\"\n",
    "gene_exp$Sig[gene_exp$p_value < 0.05 & gene_exp$log2.fold_change. > 1] <- \"Up\"\n",
    "gene_exp$Sig[gene_exp$p_value < 0.05 & gene_exp$log2.fold_change. < -1] <- \"Down\"\n",
    "gene_exp$Sig <- factor(gene_exp$Sig, levels = c(\"Up\", \"Nosig\", \"Down\"))\n",
    "\n",
    "table(gene_exp$Sig)\n"
   ]
  },
  {
   "cell_type": "code",
   "execution_count": 9,
   "metadata": {
    "vscode": {
     "languageId": "r"
    }
   },
   "outputs": [],
   "source": [
    "# select DEG\n",
    "DEG <- gene_exp[gene_exp$Sig != \"Nosig\", ]\n",
    "DEG <- DEG[order(abs(DEG$log2.fold_change.), decreasing = T), ] # sort by log2FC\n",
    "write.table(DEG, file = \"./03_analysis/DiffGenes_FC2.csv \", sep = \",\", quote = F, row.names = F)"
   ]
  },
  {
   "cell_type": "code",
   "execution_count": 11,
   "metadata": {
    "vscode": {
     "languageId": "r"
    }
   },
   "outputs": [
    {
     "data": {
      "image/png": "[encoded data removed]",
      "text/plain": [
       "plot without title"
      ]
     },
     "metadata": {
      "image/png": {
       "height": 420,
       "width": 420
      }
     },
     "output_type": "display_data"
    }
   ],
   "source": [
    "# plot barplot\n",
    "\n",
    "tab <- as.data.frame(table(DEG$Sig))\n",
    "tab <- tab[tab$Var1 != \"Nosig\", ]\n",
    "\n",
    "\n",
    "tab$Var1 <- factor(tab$Var1, levels = c(\"Up\", \"Down\"))\n",
    "\n",
    "p <- ggplot(tab, aes(x = Var1, y = Freq, label = Freq, fill = Var1)) +\n",
    "    geom_bar(stat = \"identity\", color = \"black\", size = 0.7) +\n",
    "    geom_text(position = position_dodge(0.9), vjust = -0.2, size = 2.5) +\n",
    "    ylim(0, max(tab$Freq) * 1.1) +\n",
    "    theme_classic() +\n",
    "    xlab(\"Differential expression\") +\n",
    "    ylab(\"Number of genes\") +\n",
    "    ggtitle(\"\") +\n",
    "    theme(legend.position = \"none\") +\n",
    "    scale_fill_manual(values = c(\"#b2182b99\", \"#2166ac99\")) \n",
    "\n",
    "p\n",
    "ggsave(p, filename = \"./03_analysis/diffgene_number_barplot.pdf\", width =4, height = 4)"
   ]
  },
  {
   "attachments": {},
   "cell_type": "markdown",
   "metadata": {},
   "source": [
    "## Volcano plot"
   ]
  },
  {
   "cell_type": "code",
   "execution_count": 12,
   "metadata": {
    "vscode": {
     "languageId": "r"
    }
   },
   "outputs": [
    {
     "name": "stderr",
     "output_type": "stream",
     "text": [
      "Warning message:\n",
      "\"\u001b[1m\u001b[22mRemoved 59 rows containing missing values (`geom_point()`).\"\n"
     ]
    },
    {
     "data": {
      "image/png": "[encoded data removed]",
      "text/plain": [
       "plot without title"
      ]
     },
     "metadata": {
      "image/png": {
       "height": 420,
       "width": 420
      }
     },
     "output_type": "display_data"
    }
   ],
   "source": [
    "\n",
    "# 根据上调、下调、不变为基因添加颜色信息\n",
    "\n",
    "color <- c(Up = \"#b2182b\", Nosig = \"grey\", Down = \"#2166ac\")\n",
    "\n",
    "p <- ggplot(gene_exp, aes(log2.fold_change., -log10(p_value), color = Sig)\n",
    ") +\n",
    "    geom_point(alpha = 0.4 ) +\n",
    "        theme_bw() +\n",
    "        scale_color_manual(values = color) +\n",
    "        # 辅助线\n",
    "        geom_hline(yintercept = -log10(0.05), lty = 4, col = \"grey\", lwd = 0.6) +\n",
    "        geom_vline(xintercept = c(-1, 1), lty = 4, col = \"grey\", lwd = 0.6) +\n",
    "        xlim(-6, 6) +\n",
    "        ylab(expression(-log[10](p~value))) +\n",
    "        xlab(expression(log[2](Fold~Change))) +\n",
    "        # 图例\n",
    "        theme(\n",
    "            legend.position = \"right\",\n",
    "            panel.grid = element_blank(),\n",
    "            axis.title = element_text(size = 16),\n",
    "            axis.text = element_text(size = 14)\n",
    "        )+theme(legend.title = element_blank())\n",
    "    p\n",
    "\n",
    "\n",
    "\n"
   ]
  },
  {
   "cell_type": "code",
   "execution_count": 13,
   "metadata": {
    "vscode": {
     "languageId": "r"
    }
   },
   "outputs": [],
   "source": [
    "# 依次按照padjust值log2fc.DSS_NG.Ctrl_NG.值进行排序\n",
    "\n",
    "selected_genes <- c(\n",
    "    \"Stat1\", \"Irf9\", \"Oas3\", \"Usp18\", \"Ddx58\", \"Isg15\", \"Ifi203\",  \"Ifit2\",\"Ifi44\",\"Cd300If\",\n",
    "    \"Nefh\", \"Rorb\", \"Nefm\", \"Cplx1\", \"Syt2\",\"Chrm2\",\"Kcnc1\",\"Kcnc3\",\"Kcnip2\",\"Shroom2\",\"Atg9a\",\"Chtf18\",\"Etnppl\"\n",
    ")\n",
    "selected_genes <- gene_exp[gene_exp$gene %in% selected_genes, ]\n",
    "\n",
    "# 筛选出selected_genes\n",
    "\n",
    "\n"
   ]
  },
  {
   "cell_type": "code",
   "execution_count": 15,
   "metadata": {
    "vscode": {
     "languageId": "r"
    }
   },
   "outputs": [
    {
     "name": "stderr",
     "output_type": "stream",
     "text": [
      "Warning message:\n",
      "\"\u001b[1m\u001b[22mRemoved 59 rows containing missing values (`geom_point()`).\"\n",
      "Warning message:\n",
      "\"ggrepel: 7 unlabeled data points (too many overlaps). Consider increasing max.overlaps\"\n",
      "Warning message:\n",
      "\"\u001b[1m\u001b[22mRemoved 59 rows containing missing values (`geom_point()`).\"\n",
      "Warning message:\n",
      "\"ggrepel: 8 unlabeled data points (too many overlaps). Consider increasing max.overlaps\"\n"
     ]
    },
    {
     "data": {
      "image/png": "[encoded data removed]",
      "text/plain": [
       "plot without title"
      ]
     },
     "metadata": {
      "image/png": {
       "height": 420,
       "width": 420
      }
     },
     "output_type": "display_data"
    }
   ],
   "source": [
    "\n",
    "\n",
    "p_topn <- p + geom_label_repel(\n",
    "    data = selected_genes,\n",
    "    aes(log2.fold_change.,  -log10(p_value), label = gene,fill=Sig),\n",
    "    color = \"white\",\n",
    "    size = 4, # font size\n",
    "    box.padding = 0.8, # font to point distance\n",
    "    segment.colour = \"black\",\n",
    "    segment.size=0.7, # line width\n",
    "    min.segment.length = 0, # min line length\n",
    "    show.legend = FALSE,\n",
    ")+ scale_fill_manual(values=c(\"#b2182b\",  \"#2166ac\"))\n",
    "p_topn\n",
    "ggsave(p_topn, filename = \"./03_analysis/diffgene_volcano.pdf\", width = 6, height = 6)"
   ]
  },
  {
   "attachments": {},
   "cell_type": "markdown",
   "metadata": {},
   "source": [
    "## 层次聚类\n",
    "\n"
   ]
  },
  {
   "cell_type": "code",
   "execution_count": 18,
   "metadata": {
    "vscode": {
     "languageId": "r"
    }
   },
   "outputs": [],
   "source": [
    "# 筛选top 50的基因进行层次聚类\n",
    "library(dplyr)\n",
    "library(gplots)\n",
    "\n",
    "selected_up <- DEG[DEG$Sig == \"Up\", ][1:40, ]\n",
    "selected_down <- DEG[DEG$Sig == \"Down\", ][1:20, ]\n",
    "selected_DEG <- rbind(selected_up, selected_down) -> selected_genes\n",
    "\n",
    "\n",
    "# 根据top50的gene_id 筛选出df_TPM 所在的行\n",
    "sigGeneDat <- df_TPM[selected_DEG$gene_id, ]\n",
    "rownames(sigGeneDat) <- selected_DEG$gene\n",
    "\n",
    "\n",
    "periodCols <- c(\"#44af8f\", \"#d95f02\")\n",
    "names(periodCols) <- levels(df_phe$Group)\n",
    "periodColors <- periodCols[as.character(df_phe$Group)]\n",
    "\n",
    "rowHClust <- hclust(as.dist(1 - cor(t(sigGeneDat))))\n",
    "rowTree <- as.dendrogram(rowHClust)\n",
    "\n",
    "# cutree from hierarchical clustering\n",
    "gClust <- cutree(rowHClust, k = 2) # 根据先前运行结果选择聚类为2类\n",
    "# 选择基因分类的颜色\n"
   ]
  },
  {
   "cell_type": "code",
   "execution_count": 25,
   "metadata": {
    "vscode": {
     "languageId": "r"
    }
   },
   "outputs": [
    {
     "data": {
      "text/html": [
       "<strong>png:</strong> 2"
      ],
      "text/latex": [
       "\\textbf{png:} 2"
      ],
      "text/markdown": [
       "**png:** 2"
      ],
      "text/plain": [
       "png \n",
       "  2 "
      ]
     },
     "metadata": {},
     "output_type": "display_data"
    }
   ],
   "source": [
    "\n",
    "\n",
    "pdf(\"./03_analysis/diffgene_heatmap.pdf\", 6, 12)\n",
    "\n",
    "heatmap.2(as.matrix(sigGeneDat),\n",
    "    Rowv = rowTree, dendrogram = \"both\", scale = \"row\", trace = \"none\", col = redgreen(75), ColSideColors = periodColors, margins = c(8, 10), lhei = c(1, 9),\n",
    "    cexRow = 0.8, cexCol = 1.0 # fontszie\n",
    ")\n",
    "dev.off()"
   ]
  },
  {
   "attachments": {},
   "cell_type": "markdown",
   "metadata": {},
   "source": [
    "# GO&KEGG"
   ]
  },
  {
   "cell_type": "code",
   "execution_count": 29,
   "metadata": {
    "vscode": {
     "languageId": "r"
    }
   },
   "outputs": [],
   "source": [
    "rownames(df_TPM) <- gsub(\"\\\\..*\", \"\", rownames(df_TPM))\n",
    "rownames(DEG) <- gsub(\"\\\\..*\", \"\", DEG$gene_id)\n",
    "DEG_up <- DEG[DEG$Sig == \"Up\", ]\n",
    "DEG_down <- DEG[DEG$Sig == \"Down\", ]\n",
    "\n"
   ]
  },
  {
   "cell_type": "code",
   "execution_count": 17,
   "metadata": {
    "vscode": {
     "languageId": "r"
    }
   },
   "outputs": [
    {
     "name": "stderr",
     "output_type": "stream",
     "text": [
      "\n",
      "\n",
      "clusterProfiler v4.6.0  For help: https://yulab-smu.top/biomedical-knowledge-mining-book/\n",
      "\n",
      "If you use clusterProfiler in published research, please cite:\n",
      "T Wu, E Hu, S Xu, M Chen, P Guo, Z Dai, T Feng, L Zhou, W Tang, L Zhan, X Fu, S Liu, X Bo, and G Yu. clusterProfiler 4.0: A universal enrichment tool for interpreting omics data. The Innovation. 2021, 2(3):100141\n",
      "\n",
      "\n",
      "Attaching package: 'clusterProfiler'\n",
      "\n",
      "\n",
      "The following object is masked from 'package:stats':\n",
      "\n",
      "    filter\n",
      "\n",
      "\n",
      "Loading required package: AnnotationDbi\n",
      "\n",
      "Loading required package: stats4\n",
      "\n",
      "Loading required package: BiocGenerics\n",
      "\n",
      "\n",
      "Attaching package: 'BiocGenerics'\n",
      "\n",
      "\n",
      "The following objects are masked from 'package:dplyr':\n",
      "\n",
      "    combine, intersect, setdiff, union\n",
      "\n",
      "\n",
      "The following objects are masked from 'package:stats':\n",
      "\n",
      "    IQR, mad, sd, var, xtabs\n",
      "\n",
      "\n",
      "The following objects are masked from 'package:base':\n",
      "\n",
      "    anyDuplicated, aperm, append, as.data.frame, basename, cbind,\n",
      "    colnames, dirname, do.call, duplicated, eval, evalq, Filter, Find,\n",
      "    get, grep, grepl, intersect, is.unsorted, lapply, Map, mapply,\n",
      "    match, mget, order, paste, pmax, pmax.int, pmin, pmin.int,\n",
      "    Position, rank, rbind, Reduce, rownames, sapply, setdiff, sort,\n",
      "    table, tapply, union, unique, unsplit, which.max, which.min\n",
      "\n",
      "\n",
      "Loading required package: Biobase\n",
      "\n",
      "Welcome to Bioconductor\n",
      "\n",
      "    Vignettes contain introductory material; view with\n",
      "    'browseVignettes()'. To cite Bioconductor, see\n",
      "    'citation(\"Biobase\")', and for packages 'citation(\"pkgname\")'.\n",
      "\n",
      "\n",
      "Loading required package: IRanges\n",
      "\n",
      "Loading required package: S4Vectors\n",
      "\n",
      "\n",
      "Attaching package: 'S4Vectors'\n",
      "\n",
      "\n",
      "The following object is masked from 'package:clusterProfiler':\n",
      "\n",
      "    rename\n",
      "\n",
      "\n",
      "The following object is masked from 'package:gplots':\n",
      "\n",
      "    space\n",
      "\n",
      "\n",
      "The following objects are masked from 'package:dplyr':\n",
      "\n",
      "    first, rename\n",
      "\n",
      "\n",
      "The following objects are masked from 'package:base':\n",
      "\n",
      "    expand.grid, I, unname\n",
      "\n",
      "\n",
      "\n",
      "Attaching package: 'IRanges'\n",
      "\n",
      "\n",
      "The following object is masked from 'package:clusterProfiler':\n",
      "\n",
      "    slice\n",
      "\n",
      "\n",
      "The following objects are masked from 'package:dplyr':\n",
      "\n",
      "    collapse, desc, slice\n",
      "\n",
      "\n",
      "The following object is masked from 'package:grDevices':\n",
      "\n",
      "    windows\n",
      "\n",
      "\n",
      "\n",
      "Attaching package: 'AnnotationDbi'\n",
      "\n",
      "\n",
      "The following object is masked from 'package:clusterProfiler':\n",
      "\n",
      "    select\n",
      "\n",
      "\n",
      "The following object is masked from 'package:dplyr':\n",
      "\n",
      "    select\n",
      "\n",
      "\n",
      "\n",
      "\n",
      "\n",
      "Attaching package: 'cowplot'\n",
      "\n",
      "\n",
      "The following object is masked from 'package:patchwork':\n",
      "\n",
      "    align_plots\n",
      "\n",
      "\n"
     ]
    },
    {
     "data": {
      "text/html": [
       "<style>\n",
       ".list-inline {list-style: none; margin:0; padding: 0}\n",
       ".list-inline>li {display: inline-block}\n",
       ".list-inline>li:not(:last-child)::after {content: \"\\00b7\"; padding: 0 .5ex}\n",
       "</style>\n",
       "<ol class=list-inline><li>'ACCNUM'</li><li>'ALIAS'</li><li>'ENSEMBL'</li><li>'ENSEMBLPROT'</li><li>'ENSEMBLTRANS'</li><li>'ENTREZID'</li><li>'ENZYME'</li><li>'EVIDENCE'</li><li>'EVIDENCEALL'</li><li>'GENENAME'</li><li>'GENETYPE'</li><li>'GO'</li><li>'GOALL'</li><li>'IPI'</li><li>'MGI'</li><li>'ONTOLOGY'</li><li>'ONTOLOGYALL'</li><li>'PATH'</li><li>'PFAM'</li><li>'PMID'</li><li>'PROSITE'</li><li>'REFSEQ'</li><li>'SYMBOL'</li><li>'UNIPROT'</li></ol>\n"
      ],
      "text/latex": [
       "\\begin{enumerate*}\n",
       "\\item 'ACCNUM'\n",
       "\\item 'ALIAS'\n",
       "\\item 'ENSEMBL'\n",
       "\\item 'ENSEMBLPROT'\n",
       "\\item 'ENSEMBLTRANS'\n",
       "\\item 'ENTREZID'\n",
       "\\item 'ENZYME'\n",
       "\\item 'EVIDENCE'\n",
       "\\item 'EVIDENCEALL'\n",
       "\\item 'GENENAME'\n",
       "\\item 'GENETYPE'\n",
       "\\item 'GO'\n",
       "\\item 'GOALL'\n",
       "\\item 'IPI'\n",
       "\\item 'MGI'\n",
       "\\item 'ONTOLOGY'\n",
       "\\item 'ONTOLOGYALL'\n",
       "\\item 'PATH'\n",
       "\\item 'PFAM'\n",
       "\\item 'PMID'\n",
       "\\item 'PROSITE'\n",
       "\\item 'REFSEQ'\n",
       "\\item 'SYMBOL'\n",
       "\\item 'UNIPROT'\n",
       "\\end{enumerate*}\n"
      ],
      "text/markdown": [
       "1. 'ACCNUM'\n",
       "2. 'ALIAS'\n",
       "3. 'ENSEMBL'\n",
       "4. 'ENSEMBLPROT'\n",
       "5. 'ENSEMBLTRANS'\n",
       "6. 'ENTREZID'\n",
       "7. 'ENZYME'\n",
       "8. 'EVIDENCE'\n",
       "9. 'EVIDENCEALL'\n",
       "10. 'GENENAME'\n",
       "11. 'GENETYPE'\n",
       "12. 'GO'\n",
       "13. 'GOALL'\n",
       "14. 'IPI'\n",
       "15. 'MGI'\n",
       "16. 'ONTOLOGY'\n",
       "17. 'ONTOLOGYALL'\n",
       "18. 'PATH'\n",
       "19. 'PFAM'\n",
       "20. 'PMID'\n",
       "21. 'PROSITE'\n",
       "22. 'REFSEQ'\n",
       "23. 'SYMBOL'\n",
       "24. 'UNIPROT'\n",
       "\n",
       "\n"
      ],
      "text/plain": [
       " [1] \"ACCNUM\"       \"ALIAS\"        \"ENSEMBL\"      \"ENSEMBLPROT\"  \"ENSEMBLTRANS\"\n",
       " [6] \"ENTREZID\"     \"ENZYME\"       \"EVIDENCE\"     \"EVIDENCEALL\"  \"GENENAME\"    \n",
       "[11] \"GENETYPE\"     \"GO\"           \"GOALL\"        \"IPI\"          \"MGI\"         \n",
       "[16] \"ONTOLOGY\"     \"ONTOLOGYALL\"  \"PATH\"         \"PFAM\"         \"PMID\"        \n",
       "[21] \"PROSITE\"      \"REFSEQ\"       \"SYMBOL\"       \"UNIPROT\"     "
      ]
     },
     "metadata": {},
     "output_type": "display_data"
    },
    {
     "name": "stderr",
     "output_type": "stream",
     "text": [
      "'select()' returned 1:many mapping between keys and columns\n",
      "\n",
      "Warning message in bitr(rownames(DEG_up), fromType = \"ENSEMBL\", toType = \"ENTREZID\", :\n",
      "\"3.26% of input gene IDs are fail to map...\"\n",
      "'select()' returned 1:many mapping between keys and columns\n",
      "\n",
      "Warning message in bitr(rownames(DEG_down), fromType = \"ENSEMBL\", toType = \"ENTREZID\", :\n",
      "\"11.88% of input gene IDs are fail to map...\"\n",
      "'select()' returned 1:many mapping between keys and columns\n",
      "\n",
      "Warning message in bitr(rownames(df_TPM), fromType = \"ENSEMBL\", toType = \"ENTREZID\", :\n",
      "\"36.9% of input gene IDs are fail to map...\"\n"
     ]
    }
   ],
   "source": [
    "\n",
    "keytypes(org.Mm.eg.db)\n",
    "\n",
    "\n",
    "# gene id translaste to ENTREZID\n",
    "DEG_up_gene <- bitr(rownames(DEG_up),\n",
    "fromType = \"ENSEMBL\",\n",
    "toType = \"ENTREZID\",\n",
    "OrgDb = org.Mm.eg.db\n",
    ") \n",
    "\n",
    "DEG_down_gene <- bitr(rownames(DEG_down),\n",
    "fromType = \"ENSEMBL\",\n",
    "toType = \"ENTREZID\",\n",
    "OrgDb = org.Mm.eg.db\n",
    ")\n",
    "\n",
    "geneList <- bitr(rownames(df_TPM),\n",
    "fromType = \"ENSEMBL\",\n",
    "toType = \"ENTREZID\",\n",
    "OrgDb = org.Mm.eg.db\n",
    ") \n",
    "\n"
   ]
  },
  {
   "cell_type": "code",
   "execution_count": 50,
   "metadata": {
    "vscode": {
     "languageId": "r"
    }
   },
   "outputs": [],
   "source": [
    "\n",
    "# 对样本间的差异基因进行GO富集分析\n",
    "DEG_up_go <- enrichGO(\n",
    "    gene = DEG_up_gene$ENTREZID,\n",
    "    universe = names(geneList$ENTREZID),\n",
    "    OrgDb = org.Mm.eg.db,\n",
    "    ont = \"BP\", # BP: biological process, MF: molecular function, CC: cellular component\n",
    "    pAdjustMethod = \"BH\",\n",
    "    pvalueCutoff = 0.05,\n",
    "    qvalueCutoff = 0.05,\n",
    "    readable = TRUE\n",
    ")\n",
    "\n",
    "DEG_up_go_read <- DOSE::setReadable(DEG_up_go,\n",
    "    OrgDb = \"org.Mm.eg.db\",\n",
    "    keyType = \"ENTREZID\"\n",
    ") # ENTREZID to gene Symbol\n",
    "write.csv(DEG_up_go_read@result, \"./03_analysis/GO_DEG_up_enrichresults.csv\")\n",
    "\n",
    "\n",
    "\n",
    "DEG_down_go <- enrichGO(\n",
    "    gene = DEG_down_gene$ENTREZID,\n",
    "    universe = names(geneList$ENTREZID),\n",
    "    OrgDb = org.Mm.eg.db,\n",
    "    ont = \"BP\", # BP: biological process, MF: molecular function, CC: cellular component\n",
    "    pAdjustMethod = \"BH\",\n",
    "    pvalueCutoff = 0.05,\n",
    "    qvalueCutoff = 0.05,\n",
    "    readable = TRUE\n",
    ")\n",
    "\n",
    "\n",
    "DEG_down_go_read <- DOSE::setReadable(DEG_down_go,\n",
    "    OrgDb = \"org.Mm.eg.db\",\n",
    "    keyType = \"ENTREZID\"\n",
    ") # ENTREZID to gene Symbol\n",
    "write.csv(DEG_down_go_read@result, \"./03_analysis/GO_DEG_down_enrichresults.csv\")\n",
    "\n"
   ]
  },
  {
   "cell_type": "code",
   "execution_count": 55,
   "metadata": {
    "vscode": {
     "languageId": "r"
    }
   },
   "outputs": [],
   "source": [
    "p1 <- dotplot(DEG_up_go, showCategory = 10) + ggtitle(\"Downregulated\")\n",
    "p2 <- dotplot(DEG_down_go, showCategory = 10) + ggtitle(\"Upregulated\")\n",
    "pp <- plot_grid(p1, p2, ncol = 2, labels = LETTERS[1:2])\n",
    "ggsave(pp, filename = \"./03_analysis/GO_dotplot.pdf\", width = 12, height = 10)\n"
   ]
  },
  {
   "cell_type": "code",
   "execution_count": 56,
   "metadata": {
    "vscode": {
     "languageId": "r"
    }
   },
   "outputs": [
    {
     "name": "stderr",
     "output_type": "stream",
     "text": [
      "Warning message in cnetplot.enrichResult(x, ...):\n",
      "\"Use 'color.params = list(edge = your_value)' instead of 'colorEdge'.\n",
      " The colorEdge parameter will be removed in the next version.\"\n",
      "Warning message in cnetplot.enrichResult(x, ...):\n",
      "\"Use 'color.params = list(category = your_value)' instead of 'color_category'.\n",
      " The color_category parameter will be removed in the next version.\"\n",
      "Warning message in cnetplot.enrichResult(x, ...):\n",
      "\"Use 'color.params = list(edge = your_value)' instead of 'colorEdge'.\n",
      " The colorEdge parameter will be removed in the next version.\"\n",
      "Warning message in cnetplot.enrichResult(x, ...):\n",
      "\"Use 'color.params = list(category = your_value)' instead of 'color_category'.\n",
      " The color_category parameter will be removed in the next version.\"\n",
      "Warning message:\n",
      "\"ggrepel: 7 unlabeled data points (too many overlaps). Consider increasing max.overlaps\"\n"
     ]
    }
   ],
   "source": [
    "\n",
    "\n",
    "\n",
    "\n",
    "pp_go_cnetplot <- cnetplot(DEG_up_go,\n",
    "    showCategory = 6, colorEdge = T,\n",
    "    node_label = \"all\",\n",
    "    color_category = \"steelblue\"\n",
    ")\n",
    "pp_down_cnetplot <- cnetplot(DEG_down_go,\n",
    "    showCategory = 6, colorEdge = T,\n",
    "    node_label = \"all\",\n",
    "    color_category = \"steelblue\"\n",
    ")\n",
    "\n",
    "pp_cnetplot <- plot_grid(pp_go_cnetplot, pp_down_cnetplot, ncol = 2, labels = LETTERS[1:4])\n",
    "\n",
    "ggsave(pp_cnetplot, filename = \"./03_analysis/GO_cnetplot.pdf\", width = 24, height = 10)"
   ]
  },
  {
   "cell_type": "code",
   "execution_count": 47,
   "metadata": {
    "vscode": {
     "languageId": "r"
    }
   },
   "outputs": [],
   "source": [
    "\n",
    "DEG_up_go_pair <- pairwise_termsim(DEG_up_go)\n",
    "pp_go_emapplot <- emapplot(DEG_up_go_pair)\n",
    "DEG_down_go_pair <- pairwise_termsim(DEG_down_go)\n",
    "pp_down_emapplot <- emapplot(DEG_down_go_pair)\n",
    "\n",
    "pp_emapplot<-plot_grid(pp_go_emapplot, pp_down_emapplot, ncol = 2, labels = LETTERS[1:2])\n",
    "\n",
    "ggsave(pp_emapplot, filename = \"./03_analysis/GO_emapplot.pdf\", width = 24, height = 10)\n"
   ]
  },
  {
   "cell_type": "code",
   "execution_count": 58,
   "metadata": {
    "vscode": {
     "languageId": "r"
    }
   },
   "outputs": [
    {
     "name": "stderr",
     "output_type": "stream",
     "text": [
      "Warning message:\n",
      "\"ggrepel: 1 unlabeled data points (too many overlaps). Consider increasing max.overlaps\"\n"
     ]
    }
   ],
   "source": [
    "\n",
    "\n",
    "pp_go_goplot <- goplot(DEG_up_go)\n",
    "pp_down_goplot <- goplot(DEG_down_go)\n",
    "\n",
    "pp_goplot <- plot_grid(pp_go_goplot, pp_down_goplot, ncol = 2, labels = LETTERS[1:2])\n",
    "\n",
    "ggsave(pp_goplot, filename = \"./03_analysis/GO_goplot.pdf\", width = 24, height = 10)"
   ]
  },
  {
   "cell_type": "code",
   "execution_count": 62,
   "metadata": {
    "vscode": {
     "languageId": "r"
    }
   },
   "outputs": [],
   "source": [
    "# 对样本间的差异基因进行KEGG富集分析\n",
    "DEG_up_kk <- enrichKEGG(\n",
    "    gene = DEG_up_gene$ENTREZID,\n",
    "    organism = \"mmu\",\n",
    "    pvalueCutoff = 0.05,\n",
    "    pAdjustMethod = \"BH\",\n",
    "    qvalueCutoff = 0.05\n",
    ")\n",
    "\n",
    "DEG_down_kk <- enrichKEGG(\n",
    "    gene = DEG_down_gene$ENTREZID,\n",
    "    organism = \"mmu\",\n",
    "    pvalueCutoff = 0.05,\n",
    "    pAdjustMethod = \"BH\",\n",
    "    qvalueCutoff = 0.05\n",
    ")\n",
    "\n",
    "p_dotplot_up_kk <- dotplot(DEG_up_kk, showCategory = 10) + ggtitle(\"Upregulated\")\n",
    "p_dotplot_down_kk <- dotplot(DEG_down_kk, showCategory = 10) + ggtitle(\"Downregulated\")\n",
    "pp2 <- plot_grid(p_dotplot_up_kk, p_dotplot_down_kk, ncol = 2, labels = LETTERS[1:2])\n",
    "ggsave(pp2, filename = \"./03_analysis/KEGG_dotplot.pdf\", width = 11, height = 7)"
   ]
  }
 ],
 "metadata": {
  "kernelspec": {
   "display_name": "R",
   "language": "R",
   "name": "ir"
  },
  "language_info": {
   "codemirror_mode": "r",
   "file_extension": ".r",
   "mimetype": "text/x-r-source",
   "name": "R",
   "pygments_lexer": "r",
   "version": "4.2.2"
  },
  "orig_nbformat": 4
 },
 "nbformat": 4,
 "nbformat_minor": 2
}
